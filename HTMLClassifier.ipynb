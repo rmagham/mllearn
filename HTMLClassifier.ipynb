{
 "cells": [
  {
   "cell_type": "code",
   "execution_count": 2,
   "metadata": {
    "collapsed": false
   },
   "outputs": [],
   "source": [
    "import os\n",
    "import matplotlib.pyplot as plt\n",
    "\n",
    "%matplotlib inline"
   ]
  },
  {
   "cell_type": "code",
   "execution_count": 119,
   "metadata": {
    "collapsed": false
   },
   "outputs": [
    {
     "name": "stdout",
     "output_type": "stream",
     "text": [
      "(12036, 18)\n"
     ]
    }
   ],
   "source": [
    "import numpy as np\n",
    "import re\n",
    "from collections import defaultdict\n",
    "from itertools import groupby\n",
    "from collections import Counter\n",
    "from operator import add\n",
    "from functools import reduce\n",
    "import multiprocessing\n",
    "\n",
    "np.set_printoptions(threshold=np.nan)\n",
    "\n",
    "tokens = ['com', 'cart', 'buy', 'img', 'h1', 'h2', 'h3', 'h4', 'div', 'span', 'summary',\n",
    "          'description', 'product', 'shop', 'captcha', 'status', 'amazon', 'waitrose']\n",
    "\n",
    "rx = re.compile(r'\\b(%s)\\b' % \"|\".join(tokens), re.IGNORECASE)\n",
    "\n",
    "def getfiles(folder):\n",
    "    return [r + \"/\" + f for r, s, fs in os.walk(folder) for f in fs]\n",
    "            \n",
    "def getCounter(file):\n",
    "    with open(file) as f:\n",
    "        cl = [(key, len(list(group))) for line in f for key, group in groupby(rx.findall(line.lower()))]\n",
    "        return defaultdict(int, reduce(add, (Counter(dict([x])) for x in cl)))\n",
    "    \n",
    "def getCounts(files):\n",
    "    map = defaultdict(lambda: defaultdict(int))\n",
    "    pool = multiprocessing.Pool(processes = 8)\n",
    "    counters = pool.map(getCounter, files)\n",
    "#     counters = [getCounter(file) for file in files]\n",
    "    return [[counter[token] for token in tokens] for counter in counters]\n",
    "           \n",
    "files = getfiles(\"/home/maghams/tmp/HTMLPage-Classifier-Dataset/html_sample_dataset/all\")\n",
    "X = np.array(getCounts(files))\n",
    "print(X.shape)"
   ]
  },
  {
   "cell_type": "code",
   "execution_count": 134,
   "metadata": {
    "collapsed": false
   },
   "outputs": [],
   "source": [
    "from sklearn.cluster import KMeans\n",
    "from sklearn.datasets import make_blobs\n",
    "from sklearn import preprocessing\n",
    "X_scaled = X * 1.0\n",
    "X_scaled[:,14] *= 1000\n",
    "X_scaled[:,17] *= 20\n",
    "y_pred = KMeans(n_clusters=32, random_state=170).fit_predict(X_scaled)"
   ]
  },
  {
   "cell_type": "code",
   "execution_count": 135,
   "metadata": {
    "collapsed": false
   },
   "outputs": [
    {
     "data": {
      "text/plain": [
       "[(1, 23),\n",
       " (2, 8),\n",
       " (3, 12),\n",
       " (5, 24),\n",
       " (7, 5),\n",
       " (33, 14),\n",
       " (49, 17),\n",
       " (59, 18),\n",
       " (73, 31),\n",
       " (95, 25),\n",
       " (121, 4),\n",
       " (128, 28),\n",
       " (137, 19),\n",
       " (159, 30),\n",
       " (171, 26),\n",
       " (178, 21),\n",
       " (193, 15),\n",
       " (261, 29),\n",
       " (264, 10),\n",
       " (265, 7),\n",
       " (409, 6),\n",
       " (417, 27),\n",
       " (543, 3),\n",
       " (587, 16),\n",
       " (643, 22),\n",
       " (729, 2),\n",
       " (756, 11),\n",
       " (828, 20),\n",
       " (1036, 9),\n",
       " (1087, 13),\n",
       " (1210, 1),\n",
       " (1587, 0)]"
      ]
     },
     "execution_count": 135,
     "metadata": {},
     "output_type": "execute_result"
    }
   ],
   "source": [
    "sorted((len(np.where(y_pred == i)[0]), i) for i in range(0, 32))"
   ]
  },
  {
   "cell_type": "code",
   "execution_count": 133,
   "metadata": {
    "collapsed": false
   },
   "outputs": [],
   "source": [
    "from subprocess import call\n",
    "j = 0\n",
    "for i in np.array(files)[np.where(y_pred == 8)]:\n",
    "    if ((j%1) == 0):\n",
    "        call(['firefox', i])\n",
    "    j += 1"
   ]
  },
  {
   "cell_type": "code",
   "execution_count": null,
   "metadata": {
    "collapsed": true
   },
   "outputs": [],
   "source": []
  }
 ],
 "metadata": {
  "kernelspec": {
   "display_name": "Python 3",
   "language": "python",
   "name": "python3"
  },
  "language_info": {
   "codemirror_mode": {
    "name": "ipython",
    "version": 3
   },
   "file_extension": ".py",
   "mimetype": "text/x-python",
   "name": "python",
   "nbconvert_exporter": "python",
   "pygments_lexer": "ipython3",
   "version": "3.5.1"
  }
 },
 "nbformat": 4,
 "nbformat_minor": 0
}
